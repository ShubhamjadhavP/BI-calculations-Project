{
 "cells": [
  {
   "cell_type": "code",
   "execution_count": 1,
   "id": "f308ea1e-ab3b-448f-b33f-c98348a63425",
   "metadata": {},
   "outputs": [],
   "source": [
    "import pandas as pd"
   ]
  },
  {
   "cell_type": "code",
   "execution_count": 11,
   "id": "dda19384-18e6-47d8-9f54-fb7a0d31a6da",
   "metadata": {},
   "outputs": [],
   "source": [
    "# Load CSV\n",
    "df = pd.read_csv(\"D:/pythone data cleaning project/BI calculation project/BI-calculations_raw_data.csv\")"
   ]
  },
  {
   "cell_type": "code",
   "execution_count": 17,
   "id": "ba1965af-edcd-4afc-a92d-52e79a7205e2",
   "metadata": {},
   "outputs": [
    {
     "name": "stdout",
     "output_type": "stream",
     "text": [
      "Initial Data Preview:\n",
      "      CID         TID  Gender     Age Group       Purchase Date  \\\n",
      "0  943146  5876328741  Female         25-45 2023-08-30 20:27:08   \n",
      "1  180079  1018503182    Male         25-45 2024-02-23 09:33:46   \n",
      "2  337580  3814082218   Other  60 and above 2022-03-06 09:09:50   \n",
      "3  180333  1395204173   Other  60 and above 2020-11-04 04:41:57   \n",
      "4  447553  8009390577    Male         18-25 2022-05-31 17:00:32   \n",
      "\n",
      "   Product Category Discount Availed    Discount Name  Discount Amount (INR)  \\\n",
      "0       Electronics              Yes        FESTIVE50                  64.30   \n",
      "1       Electronics              Yes  SEASONALOFFER21                 175.19   \n",
      "2          Clothing              Yes  SEASONALOFFER21                 211.54   \n",
      "3  Sports & Fitness               No              NaN                   0.00   \n",
      "4  Sports & Fitness              Yes         WELCOME5                 439.92   \n",
      "\n",
      "   Gross Amount   Net Amount Purchase Method   Location  \n",
      "0    725.304000   661.004000     Credit Card  Ahmedabad  \n",
      "1   4638.991875  4463.801875     Credit Card  Bangalore  \n",
      "2   1986.372575  1774.832575     Credit Card      Delhi  \n",
      "3   5695.612650  5695.612650      Debit Card      Delhi  \n",
      "4   2292.651500  1852.731500     Credit Card      Delhi  \n"
     ]
    }
   ],
   "source": [
    "# Verify the first few rows of the dataset\n",
    "print(\"Initial Data Preview:\")\n",
    "print(df.head())  # Show top 5 rows to inspect initial data"
   ]
  },
  {
   "cell_type": "code",
   "execution_count": 15,
   "id": "2abdd09b-631d-4b93-b8ed-d3e0f9edff74",
   "metadata": {},
   "outputs": [],
   "source": [
    "# Convert date and ensure numerical columns\n",
    "df['Purchase Date'] = pd.to_datetime(df['Purchase Date'], dayfirst=True)\n",
    "df['Gross Amount'] = pd.to_numeric(df['Gross Amount'], errors='coerce')\n",
    "df['Net Amount'] = pd.to_numeric(df['Net Amount'], errors='coerce')\n",
    "df['Discount Amount (INR)'] = pd.to_numeric(df['Discount Amount (INR)'], errors='coerce')"
   ]
  },
  {
   "cell_type": "code",
   "execution_count": 19,
   "id": "b5f799be-7878-4cc4-9eda-00807b59f7f9",
   "metadata": {},
   "outputs": [
    {
     "name": "stdout",
     "output_type": "stream",
     "text": [
      "\n",
      "Converted 'Purchase Date' to DateTime:\n",
      "0   2023-08-30 20:27:08\n",
      "1   2024-02-23 09:33:46\n",
      "2   2022-03-06 09:09:50\n",
      "3   2020-11-04 04:41:57\n",
      "4   2022-05-31 17:00:32\n",
      "Name: Purchase Date, dtype: datetime64[ns]\n"
     ]
    }
   ],
   "source": [
    "print(\"\\nConverted 'Purchase Date' to DateTime:\")\n",
    "print(df['Purchase Date'].head())  # Verify the conversion"
   ]
  },
  {
   "cell_type": "code",
   "execution_count": 21,
   "id": "4738ad41-36e5-409c-b3a1-1f188057e6e8",
   "metadata": {},
   "outputs": [
    {
     "name": "stdout",
     "output_type": "stream",
     "text": [
      "\n",
      "Data Types after Conversion:\n",
      "CID                               int64\n",
      "TID                               int64\n",
      "Gender                           object\n",
      "Age Group                        object\n",
      "Purchase Date            datetime64[ns]\n",
      "Product Category                 object\n",
      "Discount Availed                 object\n",
      "Discount Name                    object\n",
      "Discount Amount (INR)           float64\n",
      "Gross Amount                    float64\n",
      "Net Amount                      float64\n",
      "Purchase Method                  object\n",
      "Location                         object\n",
      "dtype: object\n"
     ]
    }
   ],
   "source": [
    "# Verify conversion by checking the data types\n",
    "print(\"\\nData Types after Conversion:\")\n",
    "print(df.dtypes)"
   ]
  },
  {
   "cell_type": "code",
   "execution_count": 23,
   "id": "b1ddaec9-1f06-4ce2-b800-e1bb1d3c69c8",
   "metadata": {},
   "outputs": [
    {
     "name": "stdout",
     "output_type": "stream",
     "text": [
      "\n",
      "Missing Values after Imputation:\n",
      "CID                          0\n",
      "TID                          0\n",
      "Gender                       0\n",
      "Age Group                    0\n",
      "Purchase Date                0\n",
      "Product Category             0\n",
      "Discount Availed             0\n",
      "Discount Name            27585\n",
      "Discount Amount (INR)        0\n",
      "Gross Amount                 0\n",
      "Net Amount                   0\n",
      "Purchase Method              0\n",
      "Location                     0\n",
      "dtype: int64\n"
     ]
    }
   ],
   "source": [
    "# Check if there are any remaining missing values\n",
    "print(\"\\nMissing Values after Imputation:\")\n",
    "print(df.isnull().sum())  # Ensure no missing data"
   ]
  },
  {
   "cell_type": "code",
   "execution_count": 27,
   "id": "f5ab52d6-eb9b-4cf8-bc69-9c2e03a211ec",
   "metadata": {},
   "outputs": [],
   "source": [
    "# Fill missing values\n",
    "df['Discount Name'].fillna('No Discount', inplace=True)"
   ]
  },
  {
   "cell_type": "code",
   "execution_count": 29,
   "id": "393c8dce-9d0c-41b5-8b8d-926c163d53c7",
   "metadata": {},
   "outputs": [
    {
     "name": "stdout",
     "output_type": "stream",
     "text": [
      "\n",
      "Missing Values after Imputation:\n",
      "CID                      0\n",
      "TID                      0\n",
      "Gender                   0\n",
      "Age Group                0\n",
      "Purchase Date            0\n",
      "Product Category         0\n",
      "Discount Availed         0\n",
      "Discount Name            0\n",
      "Discount Amount (INR)    0\n",
      "Gross Amount             0\n",
      "Net Amount               0\n",
      "Purchase Method          0\n",
      "Location                 0\n",
      "dtype: int64\n"
     ]
    }
   ],
   "source": [
    "# Check if there are any remaining missing values\n",
    "print(\"\\nMissing Values after Imputation:\")\n",
    "print(df.isnull().sum())  # Ensure no missing data"
   ]
  },
  {
   "cell_type": "code",
   "execution_count": 31,
   "id": "40d444ff-57c3-44fe-8d70-7b57df1491d4",
   "metadata": {},
   "outputs": [
    {
     "name": "stdout",
     "output_type": "stream",
     "text": [
      "Initial Data Preview:\n",
      "      CID         TID  Gender     Age Group       Purchase Date  \\\n",
      "0  943146  5876328741  Female         25-45 2023-08-30 20:27:08   \n",
      "1  180079  1018503182    Male         25-45 2024-02-23 09:33:46   \n",
      "2  337580  3814082218   Other  60 and above 2022-03-06 09:09:50   \n",
      "3  180333  1395204173   Other  60 and above 2020-11-04 04:41:57   \n",
      "4  447553  8009390577    Male         18-25 2022-05-31 17:00:32   \n",
      "\n",
      "   Product Category Discount Availed    Discount Name  Discount Amount (INR)  \\\n",
      "0       Electronics              Yes        FESTIVE50                  64.30   \n",
      "1       Electronics              Yes  SEASONALOFFER21                 175.19   \n",
      "2          Clothing              Yes  SEASONALOFFER21                 211.54   \n",
      "3  Sports & Fitness               No      No Discount                   0.00   \n",
      "4  Sports & Fitness              Yes         WELCOME5                 439.92   \n",
      "\n",
      "   Gross Amount   Net Amount Purchase Method   Location  \n",
      "0    725.304000   661.004000     Credit Card  Ahmedabad  \n",
      "1   4638.991875  4463.801875     Credit Card  Bangalore  \n",
      "2   1986.372575  1774.832575     Credit Card      Delhi  \n",
      "3   5695.612650  5695.612650      Debit Card      Delhi  \n",
      "4   2292.651500  1852.731500     Credit Card      Delhi  \n"
     ]
    }
   ],
   "source": [
    "# To Verify the 'Discount Name' missing values are filled with 'No Discount'\n",
    "print(\"Initial Data Preview:\")\n",
    "print(df.head())  # Show top 5 rows to inspect initial data"
   ]
  },
  {
   "cell_type": "code",
   "execution_count": 33,
   "id": "3b88a309-7485-460f-be3b-cdbc8f7c5f1e",
   "metadata": {},
   "outputs": [],
   "source": [
    "# Add a Month column\n",
    "df['Month'] = df['Purchase Date'].dt.to_period('M')"
   ]
  },
  {
   "cell_type": "code",
   "execution_count": 35,
   "id": "11e3c833-333a-4f93-9eaa-ae764e969281",
   "metadata": {},
   "outputs": [],
   "source": [
    "# Drop duplicates\n",
    "df.drop_duplicates(inplace=True)\n",
    "# data cleaning is done"
   ]
  },
  {
   "cell_type": "code",
   "execution_count": 53,
   "id": "5ea1ce45-4717-45c9-a813-9a40f416d234",
   "metadata": {},
   "outputs": [
    {
     "name": "stdout",
     "output_type": "stream",
     "text": [
      "Total Revenue (Net Amount): 158177239.558525\n"
     ]
    }
   ],
   "source": [
    "# Key Calculations\n",
    "# Total revenue from all transactions (after discounts)\n",
    "total_revenue = df['Net Amount'].sum()\n",
    "print(\"Total Revenue (Net Amount):\", total_revenue)"
   ]
  },
  {
   "cell_type": "code",
   "execution_count": 55,
   "id": "87dfd0aa-ee68-4cab-878f-e5a560f6ee5a",
   "metadata": {},
   "outputs": [
    {
     "name": "stdout",
     "output_type": "stream",
     "text": [
      "Total Discount Given: 7534273.7700000005\n"
     ]
    }
   ],
   "source": [
    "# Total discounts given across all transactions\n",
    "total_discount = df['Discount Amount (INR)'].sum()\n",
    "print(\"Total Discount Given:\", total_discount)"
   ]
  },
  {
   "cell_type": "code",
   "execution_count": 57,
   "id": "05abce1e-14f5-41c2-bf45-1f1045db3d76",
   "metadata": {},
   "outputs": [
    {
     "name": "stdout",
     "output_type": "stream",
     "text": [
      "Average Order Value (AOV): 2875.949810155\n"
     ]
    }
   ],
   "source": [
    "# Average Net Amount per transaction\n",
    "average_order_value = df['Net Amount'].mean()\n",
    "print(\"Average Order Value (AOV):\", average_order_value)"
   ]
  },
  {
   "cell_type": "code",
   "execution_count": 43,
   "id": "26990694-1da8-4c2e-820b-412663d39068",
   "metadata": {},
   "outputs": [
    {
     "name": "stdout",
     "output_type": "stream",
     "text": [
      "Total Unique Customers: 29071\n"
     ]
    }
   ],
   "source": [
    "# Count of unique customers\n",
    "unique_customers = df['CID'].nunique()\n",
    "print(\"Total Unique Customers:\", unique_customers)"
   ]
  },
  {
   "cell_type": "code",
   "execution_count": 45,
   "id": "b87f4115-275d-4d49-82d4-d03ef4f63061",
   "metadata": {},
   "outputs": [
    {
     "name": "stdout",
     "output_type": "stream",
     "text": [
      "Total Transactions: 55000\n"
     ]
    }
   ],
   "source": [
    "# Total number of transactions\n",
    "total_transactions = df['TID'].nunique()\n",
    "print(\"Total Transactions:\", total_transactions)"
   ]
  },
  {
   "cell_type": "code",
   "execution_count": 47,
   "id": "2bca4394-9328-4784-b931-eb73809e2826",
   "metadata": {},
   "outputs": [
    {
     "name": "stdout",
     "output_type": "stream",
     "text": [
      "\n",
      "Revenue by Product Category:\n",
      "Product Category\n",
      "Electronics          4.748257e+07\n",
      "Clothing             3.122038e+07\n",
      "Beauty and Health    2.418552e+07\n",
      "Sports & Fitness     1.613983e+07\n",
      "Home & Kitchen       1.589259e+07\n",
      "Books                7.932802e+06\n",
      "Other                6.209626e+06\n",
      "Pet Care             4.637088e+06\n",
      "Toys & Games         4.476831e+06\n",
      "Name: Net Amount, dtype: float64\n"
     ]
    }
   ],
   "source": [
    "# Grouped revenue by product category\n",
    "revenue_by_category = df.groupby('Product Category')['Net Amount'].sum().sort_values(ascending=False)\n",
    "print(\"\\nRevenue by Product Category:\")\n",
    "print(revenue_by_category)"
   ]
  },
  {
   "cell_type": "code",
   "execution_count": 59,
   "id": "36ee9c34-b236-4794-9681-130cb22064de",
   "metadata": {
    "scrolled": true
   },
   "outputs": [
    {
     "name": "stdout",
     "output_type": "stream",
     "text": [
      "\n",
      "Sales by Gender:\n",
      "Gender\n",
      "Female   52713317.955\n",
      "Male     51900709.810\n",
      "Other    53563211.793\n",
      "Name: Net Amount, dtype: float64\n"
     ]
    }
   ],
   "source": [
    "# Sales amount split by gender\n",
    "sales_by_gender = df.groupby('Gender')['Net Amount'].sum()\n",
    "print(\"\\nSales by Gender:\")\n",
    "print(sales_by_gender)"
   ]
  },
  {
   "cell_type": "code",
   "execution_count": 61,
   "id": "3cbeadb1-4c10-4cb5-9ef3-c2841aaccc3b",
   "metadata": {},
   "outputs": [
    {
     "name": "stdout",
     "output_type": "stream",
     "text": [
      "\n",
      "Monthly Sales Trend:\n",
      "Month\n",
      "2019-09    925324.466\n",
      "2019-10   2698057.996\n",
      "2019-11   2713950.203\n",
      "2019-12   3203418.832\n",
      "2020-01   2097640.517\n",
      "              ...    \n",
      "2024-05   2822687.252\n",
      "2024-06   2487853.815\n",
      "2024-07   2521484.421\n",
      "2024-08   2927157.445\n",
      "2024-09   1671926.479\n",
      "Freq: M, Name: Net Amount, Length: 61, dtype: float64\n"
     ]
    }
   ],
   "source": [
    "# monthly_sales\n",
    "df['Month'] = df['Purchase Date'].dt.to_period('M')\n",
    "\n",
    "monthly_sales = df.groupby('Month')['Net Amount'].sum()\n",
    "print(\"\\nMonthly Sales Trend:\")\n",
    "print(monthly_sales)"
   ]
  },
  {
   "cell_type": "code",
   "execution_count": 67,
   "id": "c31eb0e0-d3f6-4c91-a0d2-cdf42f0d95c6",
   "metadata": {},
   "outputs": [
    {
     "name": "stderr",
     "output_type": "stream",
     "text": [
      "C:\\Users\\SHUBHAM\\AppData\\Local\\Temp\\ipykernel_8588\\562461260.py:16: UserWarning: Glyph 128200 (\\N{CHART WITH UPWARDS TREND}) missing from current font.\n",
      "  plt.tight_layout()\n",
      "D:\\PythonAnaconda\\Lib\\site-packages\\IPython\\core\\pylabtools.py:170: UserWarning: Glyph 128200 (\\N{CHART WITH UPWARDS TREND}) missing from current font.\n",
      "  fig.canvas.print_figure(bytes_io, **kw)\n"
     ]
    },
    {
     "data": {
      "image/png": "[encoded data removed]",
      "text/plain": [
       "<Figure size 1200x600 with 1 Axes>"
      ]
     },
     "metadata": {},
     "output_type": "display_data"
    }
   ],
   "source": [
    "import matplotlib.pyplot as plt\n",
    "import pandas as pd\n",
    "\n",
    "# Step 1: Group by Month and sum Net Amount\n",
    "monthly_sales = df.groupby('Month')['Net Amount'].sum().reset_index()\n",
    "\n",
    "# Step 3 Plotting\n",
    "plt.figure(figsize=(12, 6))\n",
    "plt.plot(monthly_sales['Month'], monthly_sales['Net Amount'], marker='o', color='skyblue', linewidth=2)\n",
    "\n",
    "plt.title('📈 Monthly Sales Trend', fontsize=16)\n",
    "plt.xlabel('Month', fontsize=12)\n",
    "plt.ylabel('Net Sales Amount (INR)', fontsize=12)\n",
    "plt.grid(True)\n",
    "plt.xticks(rotation=45)\n",
    "plt.tight_layout()\n",
    "\n",
    "plt.show()\n"
   ]
  },
  {
   "cell_type": "code",
   "execution_count": 73,
   "id": "171a502f-4eb9-4cae-b083-0679d626689d",
   "metadata": {},
   "outputs": [
    {
     "name": "stdout",
     "output_type": "stream",
     "text": [
      "\n",
      "Top 5 Cities by Revenue:\n",
      "Location\n",
      "Mumbai      32083841.028\n",
      "Delhi       31098974.702\n",
      "Bangalore   23619545.624\n",
      "Hyderabad   15813386.272\n",
      "Chennai     12635181.748\n",
      "Name: Net Amount, dtype: float64\n"
     ]
    }
   ],
   "source": [
    "# finding the Top 5 Cities by Revenue\n",
    "top_cities = df.groupby('Location')['Net Amount'].sum().sort_values(ascending=False).head(5)\n",
    "print(\"\\nTop 5 Cities by Revenue:\")\n",
    "print(top_cities)"
   ]
  },
  {
   "cell_type": "code",
   "execution_count": 75,
   "id": "a62874fe-031f-4998-a00c-52d4f0f7f997",
   "metadata": {},
   "outputs": [
    {
     "name": "stdout",
     "output_type": "stream",
     "text": [
      "\n",
      "Discount Utilization Rate (%):\n",
      "Discount Availed\n",
      "No    50.155\n",
      "Yes   49.845\n",
      "Name: proportion, dtype: float64\n"
     ]
    }
   ],
   "source": [
    "# Percent of transactions with discount applied\n",
    "discount_used = df['Discount Availed'].value_counts(normalize=True) * 100\n",
    "print(\"\\nDiscount Utilization Rate (%):\")\n",
    "print(discount_used)"
   ]
  },
  {
   "cell_type": "code",
   "execution_count": 77,
   "id": "9a842536-9186-4ba6-b9e8-79295df0a68c",
   "metadata": {},
   "outputs": [
    {
     "name": "stdout",
     "output_type": "stream",
     "text": [
      "                    Count  Percentage (%)\n",
      "Purchase Method                          \n",
      "Credit Card         22096          40.170\n",
      "Debit Card          13809          25.110\n",
      "Net Banking          5485           9.970\n",
      "International Card   2815           5.120\n",
      "Cash on Delivery     2768           5.030\n",
      "PhonePe UPI          2683           4.880\n",
      "Paytm UPI            2674           4.860\n",
      "Google Pay UPI       2670           4.850\n"
     ]
    }
   ],
   "source": [
    "# Count of each payment method\n",
    "payment_counts = df['Purchase Method'].value_counts()\n",
    "\n",
    "# Percentage distribution\n",
    "payment_percent = df['Purchase Method'].value_counts(normalize=True) * 100\n",
    "\n",
    "# Combine into one DataFrame\n",
    "payment_stats = pd.DataFrame({\n",
    "    'Count': payment_counts,\n",
    "    'Percentage (%)': payment_percent.round(2)\n",
    "})\n",
    "\n",
    "print(payment_stats)"
   ]
  },
  {
   "cell_type": "code",
   "execution_count": 79,
   "id": "eb139cbf-dcb7-41bc-a4b5-fee304dbb34e",
   "metadata": {},
   "outputs": [
    {
     "name": "stdout",
     "output_type": "stream",
     "text": [
      "                 Count  Percentage (%)\n",
      "Discount Name                         \n",
      "No Discount      27585          50.150\n",
      "NEWYEARS          8135          14.790\n",
      "SEASONALOFFER21   6940          12.620\n",
      "FESTIVE50         4115           7.480\n",
      "SAVE10            4115           7.480\n",
      "WELCOME5          4110           7.470\n"
     ]
    }
   ],
   "source": [
    "# Count of each discount\n",
    "discount_counts = df['Discount Name'].value_counts()\n",
    "\n",
    "# Percentage of each discount\n",
    "discount_percent = df['Discount Name'].value_counts(normalize=True) * 100\n",
    "\n",
    "# Combine both\n",
    "top_discounts = pd.DataFrame({\n",
    "    'Count': discount_counts,\n",
    "    'Percentage (%)': discount_percent.round(2)\n",
    "})\n",
    "\n",
    "print(top_discounts)"
   ]
  },
  {
   "cell_type": "code",
   "execution_count": 81,
   "id": "cff2f5b5-9c6a-4bfa-a924-d7bca446c009",
   "metadata": {},
   "outputs": [
    {
     "name": "stdout",
     "output_type": "stream",
     "text": [
      "                 Count  Percentage (%)\n",
      "Discount Name                         \n",
      "NEWYEARS          8135          29.670\n",
      "SEASONALOFFER21   6940          25.310\n",
      "FESTIVE50         4115          15.010\n",
      "SAVE10            4115          15.010\n",
      "WELCOME5          4110          14.990\n"
     ]
    }
   ],
   "source": [
    "# Filter out rows with 'No discount' or missing discount names\n",
    "discounted_df = df[df['Discount Name'].notna() & (df['Discount Name'].str.lower() != 'no discount')]\n",
    "\n",
    "# Count and percentage distribution\n",
    "discount_counts = discounted_df['Discount Name'].value_counts()\n",
    "discount_percent = discounted_df['Discount Name'].value_counts(normalize=True) * 100\n",
    "\n",
    "# Combine into one DataFrame\n",
    "top_discounts = pd.DataFrame({\n",
    "    'Count': discount_counts,\n",
    "    'Percentage (%)': discount_percent.round(2)\n",
    "})\n",
    "\n",
    "print(top_discounts)\n"
   ]
  },
  {
   "cell_type": "code",
   "execution_count": 87,
   "id": "0f63fd42-9416-4401-9e77-46fee3fdb39c",
   "metadata": {},
   "outputs": [
    {
     "name": "stdout",
     "output_type": "stream",
     "text": [
      "\n",
      "Transactions by Gender:\n",
      "Gender\n",
      "Female   52713317.955\n",
      "Male     51900709.810\n",
      "Other    53563211.793\n",
      "Name: Net Amount, dtype: float64\n"
     ]
    }
   ],
   "source": [
    "# Group transactions by Gender\n",
    "transactions_by_gender = df.groupby('Gender')['Net Amount'].sum()\n",
    "\n",
    "# Print or check the result (optional)\n",
    "print(\"\\nTransactions by Gender:\")\n",
    "print(transactions_by_gender)\n"
   ]
  },
  {
   "cell_type": "code",
   "execution_count": 109,
   "id": "dd31cf91-0844-4e8b-b388-e2dda253aee0",
   "metadata": {},
   "outputs": [
    {
     "data": {
      "text/html": [
       "<a href='BI-sales-report.csv' target='_blank'>BI-sales-report.csv</a><br>"
      ],
      "text/plain": [
       "C:\\Users\\SHUBHAM\\BI-sales-report.csv"
      ]
     },
     "execution_count": 109,
     "metadata": {},
     "output_type": "execute_result"
    }
   ],
   "source": [
    "from IPython.display import FileLink\n",
    "\n",
    "# Save to current directory\n",
    "df.to_csv('BI-sales-report.csv', index=False)\n",
    "\n",
    "# Provide a clickable download link\n",
    "FileLink('BI-sales-report.csv')"
   ]
  },
  {
   "cell_type": "code",
   "execution_count": null,
   "id": "0ef82ecb-bd2b-48fe-8d92-049b02c8576f",
   "metadata": {},
   "outputs": [],
   "source": []
  }
 ],
 "metadata": {
  "kernelspec": {
   "display_name": "Python 3 (ipykernel)",
   "language": "python",
   "name": "python3"
  },
  "language_info": {
   "codemirror_mode": {
    "name": "ipython",
    "version": 3
   },
   "file_extension": ".py",
   "mimetype": "text/x-python",
   "name": "python",
   "nbconvert_exporter": "python",
   "pygments_lexer": "ipython3",
   "version": "3.12.4"
  }
 },
 "nbformat": 4,
 "nbformat_minor": 5
}
